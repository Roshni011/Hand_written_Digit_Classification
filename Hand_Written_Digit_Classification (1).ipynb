{
 "cells": [
  {
   "cell_type": "markdown",
   "id": "a1e8745c",
   "metadata": {},
   "source": [
    "# Objective\n"
   ]
  },
  {
   "cell_type": "code",
   "execution_count": null,
   "id": "73e27886",
   "metadata": {},
   "outputs": [],
   "source": [
    "#Hand written digit prediction using Random Forest Classifier"
   ]
  },
  {
   "cell_type": "markdown",
   "id": "8a70ad87",
   "metadata": {},
   "source": [
    "# Import libraries"
   ]
  },
  {
   "cell_type": "code",
   "execution_count": 1,
   "id": "c2cdf3df",
   "metadata": {},
   "outputs": [],
   "source": [
    "import pandas as pd\n",
    "import numpy as np\n",
    "import matplotlib.pyplot as plt"
   ]
  },
  {
   "cell_type": "markdown",
   "id": "d4155900",
   "metadata": {},
   "source": [
    "# Create a dataset\n"
   ]
  },
  {
   "cell_type": "markdown",
   "id": "0b8473c6",
   "metadata": {},
   "source": [
    "from sklearn.datasets import load_digits\n",
    "df=load_digits()"
   ]
  },
  {
   "cell_type": "code",
   "execution_count": 8,
   "id": "0e11a996",
   "metadata": {},
   "outputs": [
    {
     "data": {
      "image/png": "[encoded data removed]",
      "text/plain": [
       "<Figure size 1000x300 with 10 Axes>"
      ]
     },
     "metadata": {},
     "output_type": "display_data"
    }
   ],
   "source": [
    "_, axes=plt.subplots(nrows=1, ncols=10, figsize=(10,3))\n",
    "for ax, image, label in zip(axes, df.images, df.target):\n",
    "    ax.set_axis_off()\n",
    "    ax.imshow(image, cmap=plt.cm.gray_r, interpolation=\"nearest\")\n",
    "    ax.set_title(\"Training: %i\" % label)\n",
    "    "
   ]
  },
  {
   "cell_type": "markdown",
   "id": "53ff2097",
   "metadata": {},
   "source": [
    "# Data Visualization"
   ]
  },
  {
   "cell_type": "code",
   "execution_count": 10,
   "id": "caccef23",
   "metadata": {},
   "outputs": [
    {
     "data": {
      "text/plain": [
       "(1797, 8, 8)"
      ]
     },
     "execution_count": 10,
     "metadata": {},
     "output_type": "execute_result"
    }
   ],
   "source": [
    "df.images.shape"
   ]
  },
  {
   "cell_type": "code",
   "execution_count": 11,
   "id": "c9493440",
   "metadata": {},
   "outputs": [
    {
     "data": {
      "text/plain": [
       "array([[ 0.,  0.,  5., 13.,  9.,  1.,  0.,  0.],\n",
       "       [ 0.,  0., 13., 15., 10., 15.,  5.,  0.],\n",
       "       [ 0.,  3., 15.,  2.,  0., 11.,  8.,  0.],\n",
       "       [ 0.,  4., 12.,  0.,  0.,  8.,  8.,  0.],\n",
       "       [ 0.,  5.,  8.,  0.,  0.,  9.,  8.,  0.],\n",
       "       [ 0.,  4., 11.,  0.,  1., 12.,  7.,  0.],\n",
       "       [ 0.,  2., 14.,  5., 10., 12.,  0.,  0.],\n",
       "       [ 0.,  0.,  6., 13., 10.,  0.,  0.,  0.]])"
      ]
     },
     "execution_count": 11,
     "metadata": {},
     "output_type": "execute_result"
    }
   ],
   "source": [
    "df.images[0]"
   ]
  },
  {
   "cell_type": "code",
   "execution_count": 12,
   "id": "9f6020f2",
   "metadata": {},
   "outputs": [
    {
     "data": {
      "text/plain": [
       "(8, 8)"
      ]
     },
     "execution_count": 12,
     "metadata": {},
     "output_type": "execute_result"
    }
   ],
   "source": [
    "df.images[0].shape"
   ]
  },
  {
   "cell_type": "code",
   "execution_count": 13,
   "id": "c5854404",
   "metadata": {},
   "outputs": [
    {
     "data": {
      "text/plain": [
       "1797"
      ]
     },
     "execution_count": 13,
     "metadata": {},
     "output_type": "execute_result"
    }
   ],
   "source": [
    "len(df.images)"
   ]
  },
  {
   "cell_type": "code",
   "execution_count": 16,
   "id": "be5378b8",
   "metadata": {},
   "outputs": [],
   "source": [
    "n_samples=len(df.images)\n",
    "data=df.images.reshape((n_samples,-1))"
   ]
  },
  {
   "cell_type": "code",
   "execution_count": 17,
   "id": "07e78650",
   "metadata": {},
   "outputs": [
    {
     "data": {
      "text/plain": [
       "array([ 0.,  0.,  5., 13.,  9.,  1.,  0.,  0.,  0.,  0., 13., 15., 10.,\n",
       "       15.,  5.,  0.,  0.,  3., 15.,  2.,  0., 11.,  8.,  0.,  0.,  4.,\n",
       "       12.,  0.,  0.,  8.,  8.,  0.,  0.,  5.,  8.,  0.,  0.,  9.,  8.,\n",
       "        0.,  0.,  4., 11.,  0.,  1., 12.,  7.,  0.,  0.,  2., 14.,  5.,\n",
       "       10., 12.,  0.,  0.,  0.,  0.,  6., 13., 10.,  0.,  0.,  0.])"
      ]
     },
     "execution_count": 17,
     "metadata": {},
     "output_type": "execute_result"
    }
   ],
   "source": [
    "data[0]"
   ]
  },
  {
   "cell_type": "code",
   "execution_count": 18,
   "id": "7746f109",
   "metadata": {},
   "outputs": [
    {
     "data": {
      "text/plain": [
       "(64,)"
      ]
     },
     "execution_count": 18,
     "metadata": {},
     "output_type": "execute_result"
    }
   ],
   "source": [
    "data[0].shape"
   ]
  },
  {
   "cell_type": "code",
   "execution_count": 19,
   "id": "fb20f9de",
   "metadata": {},
   "outputs": [
    {
     "data": {
      "text/plain": [
       "(1797, 64)"
      ]
     },
     "execution_count": 19,
     "metadata": {},
     "output_type": "execute_result"
    }
   ],
   "source": [
    "data.shape"
   ]
  },
  {
   "cell_type": "code",
   "execution_count": 20,
   "id": "57165b57",
   "metadata": {},
   "outputs": [
    {
     "data": {
      "text/plain": [
       "0.0"
      ]
     },
     "execution_count": 20,
     "metadata": {},
     "output_type": "execute_result"
    }
   ],
   "source": [
    "data.min()"
   ]
  },
  {
   "cell_type": "code",
   "execution_count": 21,
   "id": "d7b5443a",
   "metadata": {},
   "outputs": [
    {
     "data": {
      "text/plain": [
       "16.0"
      ]
     },
     "execution_count": 21,
     "metadata": {},
     "output_type": "execute_result"
    }
   ],
   "source": [
    "data.max()"
   ]
  },
  {
   "cell_type": "code",
   "execution_count": 29,
   "id": "9a399afc",
   "metadata": {},
   "outputs": [],
   "source": [
    "from sklearn.model_selection import train_test_split\n",
    "from sklearn.ensemble import RandomForestClassifier\n",
    "from sklearn.metrics import confusion_matrix, classification_report"
   ]
  },
  {
   "cell_type": "markdown",
   "id": "d83d8058",
   "metadata": {},
   "source": [
    "# Train Test Split"
   ]
  },
  {
   "cell_type": "code",
   "execution_count": 23,
   "id": "9dade5cb",
   "metadata": {},
   "outputs": [],
   "source": [
    "X_train, X_test, Y_train, Y_test=train_test_split(data, df.target, test_size=0.3)"
   ]
  },
  {
   "cell_type": "markdown",
   "id": "820e58b7",
   "metadata": {},
   "source": [
    "# Modeling"
   ]
  },
  {
   "cell_type": "code",
   "execution_count": 25,
   "id": "090d3083",
   "metadata": {},
   "outputs": [],
   "source": [
    "rf=RandomForestClassifier()"
   ]
  },
  {
   "cell_type": "markdown",
   "id": "d10668fe",
   "metadata": {},
   "source": [
    "# Model Evaluation"
   ]
  },
  {
   "cell_type": "code",
   "execution_count": 26,
   "id": "21dd0cdd",
   "metadata": {},
   "outputs": [
    {
     "data": {
      "text/plain": [
       "RandomForestClassifier()"
      ]
     },
     "execution_count": 26,
     "metadata": {},
     "output_type": "execute_result"
    }
   ],
   "source": [
    "rf.fit(X_train, Y_train)"
   ]
  },
  {
   "cell_type": "markdown",
   "id": "ed3db8e2",
   "metadata": {},
   "source": [
    "# Prediction"
   ]
  },
  {
   "cell_type": "code",
   "execution_count": 27,
   "id": "feabb1b7",
   "metadata": {},
   "outputs": [],
   "source": [
    "y_pred=rf.predict(X_test)"
   ]
  },
  {
   "cell_type": "code",
   "execution_count": 28,
   "id": "e4a98434",
   "metadata": {},
   "outputs": [
    {
     "data": {
      "text/plain": [
       "array([0, 4, 2, 6, 3, 9, 2, 7, 3, 2, 7, 0, 0, 3, 9, 4, 6, 9, 0, 0, 9, 7,\n",
       "       1, 4, 9, 0, 5, 3, 4, 9, 8, 9, 7, 7, 8, 7, 4, 8, 7, 6, 6, 4, 0, 2,\n",
       "       9, 1, 2, 8, 9, 5, 3, 1, 1, 5, 3, 6, 2, 0, 2, 5, 6, 2, 3, 5, 6, 0,\n",
       "       9, 2, 4, 2, 8, 3, 2, 8, 3, 5, 1, 4, 5, 4, 1, 9, 7, 3, 3, 2, 6, 7,\n",
       "       2, 9, 8, 6, 0, 4, 6, 0, 3, 2, 4, 3, 8, 9, 5, 4, 5, 6, 6, 7, 9, 7,\n",
       "       9, 8, 6, 5, 1, 1, 1, 1, 2, 7, 2, 3, 7, 9, 8, 1, 9, 5, 1, 2, 8, 4,\n",
       "       1, 4, 5, 4, 8, 1, 1, 4, 2, 3, 6, 8, 5, 2, 1, 8, 0, 7, 9, 7, 1, 0,\n",
       "       2, 8, 8, 5, 0, 0, 8, 7, 2, 3, 0, 8, 2, 2, 6, 6, 5, 7, 9, 3, 5, 6,\n",
       "       4, 3, 0, 4, 4, 7, 9, 4, 1, 6, 1, 3, 7, 4, 1, 9, 8, 6, 8, 2, 2, 7,\n",
       "       3, 1, 5, 5, 6, 8, 3, 1, 5, 7, 3, 9, 3, 5, 2, 7, 6, 9, 2, 9, 8, 0,\n",
       "       3, 9, 8, 2, 4, 5, 6, 3, 4, 5, 3, 6, 2, 9, 8, 4, 7, 8, 2, 1, 9, 1,\n",
       "       5, 9, 9, 2, 4, 1, 0, 3, 3, 8, 8, 2, 6, 0, 2, 0, 0, 2, 7, 9, 1, 1,\n",
       "       2, 0, 9, 8, 0, 4, 1, 0, 3, 5, 9, 9, 5, 9, 1, 9, 2, 9, 9, 3, 0, 4,\n",
       "       1, 3, 8, 7, 8, 7, 2, 0, 4, 1, 9, 1, 0, 1, 6, 4, 6, 5, 3, 4, 5, 4,\n",
       "       9, 7, 0, 1, 0, 6, 4, 8, 5, 9, 2, 8, 6, 1, 6, 2, 6, 0, 7, 4, 2, 9,\n",
       "       7, 5, 4, 7, 0, 3, 4, 7, 8, 0, 7, 9, 7, 9, 7, 9, 5, 6, 1, 8, 2, 0,\n",
       "       2, 0, 5, 7, 9, 6, 1, 6, 1, 1, 9, 3, 2, 5, 0, 3, 2, 9, 1, 3, 4, 9,\n",
       "       3, 6, 8, 0, 6, 2, 6, 3, 2, 7, 0, 2, 0, 5, 5, 9, 2, 1, 3, 2, 2, 6,\n",
       "       2, 8, 8, 5, 2, 5, 8, 6, 8, 9, 8, 3, 6, 5, 6, 5, 2, 7, 4, 6, 6, 5,\n",
       "       6, 8, 6, 3, 1, 2, 8, 7, 7, 3, 0, 9, 2, 7, 8, 5, 7, 8, 3, 9, 1, 2,\n",
       "       0, 1, 6, 8, 0, 5, 3, 8, 1, 8, 3, 6, 6, 1, 7, 8, 9, 0, 5, 0, 6, 7,\n",
       "       4, 8, 4, 0, 2, 7, 5, 3, 9, 0, 0, 8, 7, 8, 7, 0, 9, 8, 4, 6, 8, 0,\n",
       "       1, 3, 7, 1, 5, 2, 7, 2, 1, 7, 1, 3, 0, 3, 4, 5, 6, 1, 7, 3, 2, 9,\n",
       "       4, 1, 4, 2, 1, 3, 6, 0, 1, 7, 9, 6, 7, 6, 3, 0, 9, 6, 9, 7, 2, 0,\n",
       "       4, 1, 0, 0, 5, 9, 1, 1, 7, 9, 8, 2])"
      ]
     },
     "execution_count": 28,
     "metadata": {},
     "output_type": "execute_result"
    }
   ],
   "source": [
    "y_pred"
   ]
  },
  {
   "cell_type": "code",
   "execution_count": 31,
   "id": "8b980cf1",
   "metadata": {},
   "outputs": [
    {
     "data": {
      "text/plain": [
       "array([[55,  0,  0,  0,  1,  0,  0,  0,  0,  0],\n",
       "       [ 0, 56,  0,  0,  0,  0,  0,  0,  0,  0],\n",
       "       [ 0,  0, 63,  0,  0,  0,  0,  0,  0,  0],\n",
       "       [ 0,  1,  0, 51,  0,  0,  0,  1,  1,  0],\n",
       "       [ 0,  0,  0,  0, 42,  0,  0,  2,  0,  2],\n",
       "       [ 0,  0,  0,  0,  0, 46,  0,  0,  0,  2],\n",
       "       [ 0,  0,  0,  0,  1,  0, 54,  0,  0,  0],\n",
       "       [ 0,  0,  0,  0,  0,  0,  0, 48,  0,  1],\n",
       "       [ 0,  0,  0,  0,  0,  0,  0,  2, 52,  0],\n",
       "       [ 0,  0,  0,  1,  0,  0,  0,  1,  1, 56]], dtype=int64)"
      ]
     },
     "execution_count": 31,
     "metadata": {},
     "output_type": "execute_result"
    }
   ],
   "source": [
    "confusion_matrix(Y_test, y_pred)"
   ]
  },
  {
   "cell_type": "code",
   "execution_count": 33,
   "id": "06be5f69",
   "metadata": {},
   "outputs": [
    {
     "name": "stdout",
     "output_type": "stream",
     "text": [
      "              precision    recall  f1-score   support\n",
      "\n",
      "           0       1.00      0.98      0.99        56\n",
      "           1       0.98      1.00      0.99        56\n",
      "           2       1.00      1.00      1.00        63\n",
      "           3       0.98      0.94      0.96        54\n",
      "           4       0.95      0.91      0.93        46\n",
      "           5       1.00      0.96      0.98        48\n",
      "           6       1.00      0.98      0.99        55\n",
      "           7       0.89      0.98      0.93        49\n",
      "           8       0.96      0.96      0.96        54\n",
      "           9       0.92      0.95      0.93        59\n",
      "\n",
      "    accuracy                           0.97       540\n",
      "   macro avg       0.97      0.97      0.97       540\n",
      "weighted avg       0.97      0.97      0.97       540\n",
      "\n"
     ]
    }
   ],
   "source": [
    "print(classification_report(Y_test, y_pred))"
   ]
  },
  {
   "cell_type": "markdown",
   "id": "da9c37f5",
   "metadata": {},
   "source": [
    "# Explaination\n"
   ]
  },
  {
   "cell_type": "code",
   "execution_count": null,
   "id": "b8c08a4a",
   "metadata": {},
   "outputs": [],
   "source": [
    "#The precision of model lies between 0.9 to 1. that is considered as a good model."
   ]
  }
 ],
 "metadata": {
  "kernelspec": {
   "display_name": "Python 3 (ipykernel)",
   "language": "python",
   "name": "python3"
  },
  "language_info": {
   "codemirror_mode": {
    "name": "ipython",
    "version": 3
   },
   "file_extension": ".py",
   "mimetype": "text/x-python",
   "name": "python",
   "nbconvert_exporter": "python",
   "pygments_lexer": "ipython3",
   "version": "3.9.13"
  }
 },
 "nbformat": 4,
 "nbformat_minor": 5
}
